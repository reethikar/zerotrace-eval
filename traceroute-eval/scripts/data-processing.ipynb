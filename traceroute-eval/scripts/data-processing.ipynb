{
 "cells": [
  {
   "cell_type": "code",
   "execution_count": 1,
   "metadata": {},
   "outputs": [],
   "source": [
    "import json\n",
    "import os\n",
    "import csv\n",
    "import requests\n",
    "import pickle\n",
    "import matplotlib.pyplot as plt\n",
    "from tqdm.notebook import tqdm_notebook"
   ]
  },
  {
   "cell_type": "code",
   "execution_count": 2,
   "metadata": {},
   "outputs": [
    {
     "data": {
      "text/plain": [
       "['udp', 'icmp', 'tcp', 'paris', 'dublin', '0trace']"
      ]
     },
     "execution_count": 2,
     "metadata": {},
     "output_type": "execute_result"
    }
   ],
   "source": [
    "with open(\"./parse-traceroutes-output.json\") as f:\n",
    "\tjson_dict = json.load(f)\n",
    "\n",
    "tr_methods = list(json_dict.keys())\n",
    "\n",
    "tr_methods"
   ]
  },
  {
   "cell_type": "code",
   "execution_count": 3,
   "metadata": {},
   "outputs": [],
   "source": [
    "def get_last_successful_hop_data(hops):\n",
    "\t\"\"\"Extracts the hop number, lowest rtt, and corresponding IP from last successful hop.\"\"\"\n",
    "\tfor hop in reversed(hops):\n",
    "\t\trtts = [str(t) for t in hop['RTTs']]\n",
    "\t\tif ''.join(rtts) in ('*', '***'):\n",
    "\t\t\tcontinue\n",
    "\t\t\n",
    "\t\trtts = [float(t) for t in rtts if t != '*']\n",
    "\t\tips = [ip for ip in hop['HopIPs'] if ip != '*']\n",
    "\t\t\n",
    "\t\tbest_rtt = min(rtts)\n",
    "\t\tbest_ip = ips[rtts.index(best_rtt)]\n",
    "\t\thop_num = hop['TTL']\n",
    "\n",
    "\t\treturn hop_num, best_ip, best_rtt\n"
   ]
  },
  {
   "cell_type": "code",
   "execution_count": 4,
   "metadata": {},
   "outputs": [],
   "source": [
    "if os.path.exists(\"asn_cache.pkl\"):\n",
    "    with open(\"asn_cache.pkl\", \"rb\") as f:\n",
    "        asn_cache = pickle.load(f)\n",
    "else:\n",
    "    asn_cache = {}\n",
    "\n",
    "def check_asn_match(ip1, ip2):\n",
    "    \"\"\"Determines whether the traceroute reached the target network by comparing ASNs\"\"\"\n",
    "    asn_sets = []\n",
    "    for ip in [ip1, ip2]:\n",
    "        if ip in asn_cache:\n",
    "            asns = asn_cache[ip]\n",
    "        else:\n",
    "            r = requests.get(f'https://stat.ripe.net/data/network-info/data.json?resource={ip}')\n",
    "            if r.status_code != 200:\n",
    "                return -1\n",
    "            asns = set(r.json()['data']['asns'])\n",
    "            asn_cache[ip] = asns     \n",
    "        asn_sets.append(asns)\n",
    "    \n",
    "    if asn_sets[0].intersection(asn_sets[1]):\n",
    "        return 1\n",
    "    return 0\n",
    "        "
   ]
  },
  {
   "cell_type": "code",
   "execution_count": 5,
   "metadata": {},
   "outputs": [
    {
     "name": "stdout",
     "output_type": "stream",
     "text": [
      "Processing udp...\n"
     ]
    },
    {
     "data": {
      "application/vnd.jupyter.widget-view+json": {
       "model_id": "c6f71d24c74d4c4fbf1b832f5d23b26b",
       "version_major": 2,
       "version_minor": 0
      },
      "text/plain": [
       "IPs:   0%|          | 0/985 [00:00<?, ?it/s]"
      ]
     },
     "metadata": {},
     "output_type": "display_data"
    },
    {
     "name": "stdout",
     "output_type": "stream",
     "text": [
      "Processing icmp...\n"
     ]
    },
    {
     "data": {
      "application/vnd.jupyter.widget-view+json": {
       "model_id": "d34558f774754a858432a5b2a2f24ccb",
       "version_major": 2,
       "version_minor": 0
      },
      "text/plain": [
       "IPs:   0%|          | 0/985 [00:00<?, ?it/s]"
      ]
     },
     "metadata": {},
     "output_type": "display_data"
    },
    {
     "name": "stdout",
     "output_type": "stream",
     "text": [
      "Processing tcp...\n"
     ]
    },
    {
     "data": {
      "application/vnd.jupyter.widget-view+json": {
       "model_id": "0ebb82ab806742f18a4ed36f48e6560c",
       "version_major": 2,
       "version_minor": 0
      },
      "text/plain": [
       "IPs:   0%|          | 0/985 [00:00<?, ?it/s]"
      ]
     },
     "metadata": {},
     "output_type": "display_data"
    },
    {
     "name": "stdout",
     "output_type": "stream",
     "text": [
      "Processing paris...\n"
     ]
    },
    {
     "data": {
      "application/vnd.jupyter.widget-view+json": {
       "model_id": "c80b395e12ab466a966856b8b3420a7e",
       "version_major": 2,
       "version_minor": 0
      },
      "text/plain": [
       "IPs:   0%|          | 0/985 [00:00<?, ?it/s]"
      ]
     },
     "metadata": {},
     "output_type": "display_data"
    },
    {
     "name": "stdout",
     "output_type": "stream",
     "text": [
      "Processing dublin...\n"
     ]
    },
    {
     "data": {
      "application/vnd.jupyter.widget-view+json": {
       "model_id": "f99d2982cf054209b4ae7e17b51bc5c2",
       "version_major": 2,
       "version_minor": 0
      },
      "text/plain": [
       "IPs:   0%|          | 0/2955 [00:00<?, ?it/s]"
      ]
     },
     "metadata": {},
     "output_type": "display_data"
    },
    {
     "name": "stdout",
     "output_type": "stream",
     "text": [
      "Processing 0trace...\n"
     ]
    },
    {
     "data": {
      "application/vnd.jupyter.widget-view+json": {
       "model_id": "43a9ccf46f6a412fbe63cc58d81f7b5c",
       "version_major": 2,
       "version_minor": 0
      },
      "text/plain": [
       "IPs:   0%|          | 0/323 [00:00<?, ?it/s]"
      ]
     },
     "metadata": {},
     "output_type": "display_data"
    }
   ],
   "source": [
    "results = {}\n",
    "\n",
    "for tr in tr_methods:\n",
    "\tprint(f'Processing {tr}...')\n",
    "\tresults[tr] = {}\n",
    "\ttr_data = json_dict[tr]\n",
    "\n",
    "\tfor tr_dict in tqdm_notebook(tr_data, desc='IPs'):\n",
    "\t\tdest_ip = tr_dict['DestinationIP']\n",
    "\t\tif dest_ip not in results[tr]:\n",
    "\t\t\thops = tr_dict['Hops']\n",
    "\t\t\tlast_hop, last_ip, last_rtt = get_last_successful_hop_data(hops)\n",
    "\t\t\ttarget_reached = check_asn_match(dest_ip, last_ip)\n",
    "\t\t\tresults[tr][dest_ip] = {'last_hop': last_hop, 'last_ip': last_ip, 'last_rtt': last_rtt, 'target_reached': target_reached}\n"
   ]
  },
  {
   "cell_type": "code",
   "execution_count": 6,
   "metadata": {},
   "outputs": [],
   "source": [
    "if not os.path.exists(\"asn_cache.pkl\"):\n",
    "\twith open(\"asn_cache.pkl\", \"wb\") as f:\n",
    "\t\tpickle.dump(asn_cache, f)"
   ]
  },
  {
   "cell_type": "code",
   "execution_count": 7,
   "metadata": {},
   "outputs": [
    {
     "name": "stdout",
     "output_type": "stream",
     "text": [
      "udp     : 985 data points\n",
      "icmp    : 985 data points\n",
      "tcp     : 985 data points\n",
      "paris   : 985 data points\n",
      "dublin  : 975 data points\n",
      "0trace  : 323 data points\n"
     ]
    }
   ],
   "source": [
    "for tr, res in results.items():\n",
    "\tprint(f'{tr:8}: {len(res.keys())} data points')"
   ]
  },
  {
   "cell_type": "code",
   "execution_count": 8,
   "metadata": {},
   "outputs": [],
   "source": [
    "ips = list(results['dublin'].keys())\n",
    "\n",
    "with open ('data_no_0trace.csv', 'w', newline='') as f:\n",
    "\twriter = csv.writer(f)\n",
    "\twriter.writerow(['Detination IP', 'Type', 'Last Hop #', 'Last IP', 'Last RTT', 'Target Reached'])\n",
    "\tfor ip in ips:\n",
    "\t\tfor tr in tr_methods:\n",
    "\t\t\tif tr == \"0trace\":\n",
    "\t\t\t\tcontinue\n",
    "\t\t\trow = results[tr][ip]\n",
    "\t\t\twriter.writerow([ip, tr, row['last_hop'], row['last_ip'], row['last_rtt'], row['target_reached']])\n"
   ]
  },
  {
   "cell_type": "code",
   "execution_count": 9,
   "metadata": {},
   "outputs": [
    {
     "name": "stdout",
     "output_type": "stream",
     "text": [
      "213 data points\n"
     ]
    }
   ],
   "source": [
    "ips = set(results[\"dublin\"].keys()).intersection(set(results[\"0trace\"].keys()))\n",
    "print(f\"{len(ips)} data points\")\n",
    "\n",
    "with open ('data.csv', 'w', newline='') as f:\n",
    "\twriter = csv.writer(f)\n",
    "\twriter.writerow(['Detination IP', 'Type', 'Last Hop #', 'Last IP', 'Last RTT', 'Target Reached'])\n",
    "\tfor ip in ips:\n",
    "\t\tfor tr in tr_methods:\n",
    "\t\t\trow = results[tr][ip]\n",
    "\t\t\twriter.writerow([ip, tr, row['last_hop'], row['last_ip'], row['last_rtt'], row['target_reached']])\n"
   ]
  },
  {
   "cell_type": "code",
   "execution_count": null,
   "metadata": {},
   "outputs": [],
   "source": []
  }
 ],
 "metadata": {
  "kernelspec": {
   "display_name": "eecs498",
   "language": "python",
   "name": "python3"
  },
  "language_info": {
   "codemirror_mode": {
    "name": "ipython",
    "version": 3
   },
   "file_extension": ".py",
   "mimetype": "text/x-python",
   "name": "python",
   "nbconvert_exporter": "python",
   "pygments_lexer": "ipython3",
   "version": "3.9.15"
  },
  "orig_nbformat": 4
 },
 "nbformat": 4,
 "nbformat_minor": 2
}
