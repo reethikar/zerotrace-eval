{
 "cells": [
  {
   "cell_type": "code",
   "execution_count": 1,
   "metadata": {},
   "outputs": [],
   "source": [
    "import json\n",
    "import csv"
   ]
  },
  {
   "cell_type": "code",
   "execution_count": 2,
   "metadata": {},
   "outputs": [
    {
     "data": {
      "text/plain": [
       "['udp', 'icmp', 'tcp', 'paris', 'dublin']"
      ]
     },
     "execution_count": 2,
     "metadata": {},
     "output_type": "execute_result"
    }
   ],
   "source": [
    "with open(\"./parse-traceroutes-output.json\") as f:\n",
    "\tjson_dict = json.load(f)\n",
    "\n",
    "tr_methods = list(json_dict.keys())\n",
    "\n",
    "tr_methods"
   ]
  },
  {
   "cell_type": "markdown",
   "metadata": {},
   "source": []
  },
  {
   "cell_type": "code",
   "execution_count": 3,
   "metadata": {},
   "outputs": [],
   "source": [
    "def get_last_successful_hop_data(hops):\n",
    "\t\"\"\"Extracts the hop number, lowest rtt, and corresponding IP from last successful hop.\"\"\"\n",
    "\tfor hop in reversed(hops):\n",
    "\t\trtts = [str(t).rstrip('ms') for t in hop['RTTs']]\n",
    "\t\tif ''.join(rtts) in ('*', '***'):\n",
    "\t\t\tcontinue\n",
    "\t\t\n",
    "\t\trtts = [float(t) for t in rtts if t != '*']\n",
    "\t\tips = [ip for ip in hop['HopIPs'] if ip != '*']\n",
    "\t\t\n",
    "\t\tbest_rtt = min(rtts)\n",
    "\t\tbest_ip = ips[rtts.index(best_rtt)]\n",
    "\t\thop_num = hop['TTL']\n",
    "\n",
    "\t\treturn hop_num, best_ip, best_rtt\n"
   ]
  },
  {
   "cell_type": "code",
   "execution_count": 4,
   "metadata": {},
   "outputs": [],
   "source": [
    "results = {}\n",
    "\n",
    "for tr in tr_methods:\n",
    "\tresults[tr] = {}\n",
    "\ttr_data = json_dict[tr]\n",
    "\n",
    "\tfor tr_dict in tr_data:\n",
    "\t\tdest_ip = tr_dict['DestinationIP']\n",
    "\t\thops = tr_dict['Hops']\n",
    "\t\tlast_hop, last_ip, last_rtt = get_last_successful_hop_data(hops)\n",
    "\t\tresults[tr][dest_ip] = {'last_hop': last_hop, 'last_ip': last_ip, 'last_rtt': last_rtt}\n"
   ]
  },
  {
   "cell_type": "code",
   "execution_count": 5,
   "metadata": {},
   "outputs": [
    {
     "name": "stdout",
     "output_type": "stream",
     "text": [
      "udp     : 985 data points\n",
      "icmp    : 985 data points\n",
      "tcp     : 985 data points\n",
      "paris   : 985 data points\n",
      "dublin  : 975 data points\n"
     ]
    }
   ],
   "source": [
    "for tr, res in results.items():\n",
    "\tprint(f'{tr:8}: {len(res.keys())} data points')"
   ]
  },
  {
   "cell_type": "code",
   "execution_count": 6,
   "metadata": {},
   "outputs": [],
   "source": [
    "ips = list(results['dublin'].keys())\n",
    "\n",
    "with open ('data.csv', 'w', newline='') as f:\n",
    "\twriter = csv.writer(f)\n",
    "\twriter.writerow(['Detination IP', 'Type', 'Last Hop #', 'Last IP', 'Last RTT'])\n",
    "\tfor ip in ips:\n",
    "\t\tfor tr in tr_methods:\n",
    "\t\t\trow = results[tr][ip]\n",
    "\t\t\twriter.writerow([ip, tr, row['last_hop'], row['last_ip'], row['last_rtt']])\n"
   ]
  }
 ],
 "metadata": {
  "kernelspec": {
   "display_name": "eecs498",
   "language": "python",
   "name": "python3"
  },
  "language_info": {
   "codemirror_mode": {
    "name": "ipython",
    "version": 3
   },
   "file_extension": ".py",
   "mimetype": "text/x-python",
   "name": "python",
   "nbconvert_exporter": "python",
   "pygments_lexer": "ipython3",
   "version": "3.9.15"
  },
  "orig_nbformat": 4
 },
 "nbformat": 4,
 "nbformat_minor": 2
}
